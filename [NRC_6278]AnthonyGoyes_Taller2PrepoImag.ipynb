{
  "cells": [
    {
      "cell_type": "markdown",
      "metadata": {
        "id": "aWkdkxKF38l1"
      },
      "source": [
        "<center><h1>Inteligencia Artificial</header1></center>"
      ]
    },
    {
      "cell_type": "markdown",
      "metadata": {
        "id": "3jniPdgO4C1M"
      },
      "source": [
        "Presentado por: <br>\n",
        "- Anthony Mauricio Goyes Díaz  <br>\n",
        "\n",
        "Fecha: 08/08/2022"
      ]
    },
    {
      "cell_type": "markdown",
      "metadata": {
        "id": "zAATYNbD4HVl"
      },
      "source": [
        "# Importación de librerias necesarias"
      ]
    },
    {
      "cell_type": "code",
      "execution_count": 2,
      "metadata": {
        "id": "D4zmKtq7U0L3"
      },
      "outputs": [],
      "source": [
        "'''Se importa la libreria cv2'''\n",
        "import cv2\n",
        "'''Se importa la libreria numpy'''\n",
        "import numpy as np\n",
        "'''Se importa la libreria os'''\n",
        "import os\n",
        "'''Se establece el nivel de codificación'''\n",
        "os.environ['TF_CPP_MIN_LOG_LEVEL'] = '3' \n",
        "'''Se importa la libreria shutil'''\n",
        "import shutil\n",
        "'''Se importa la libreria glob'''\n",
        "import glob\n",
        "'''Se importa la libreria pandas'''\n",
        "import pandas as pd\n",
        "'''Se importa la libreria pyplot'''\n",
        "import matplotlib.pyplot as plt\n",
        "'''Se importa el módulo seaborn'''\n",
        "import seaborn as sn\n",
        "'''Se importan el módulo ImageDataGenerator'''\n",
        "from keras.preprocessing.image import ImageDataGenerator\n",
        "'''Se importan los módulos array_to_img, img_to_array, load_img'''\n",
        "from tensorflow.keras.utils import img_to_array, array_to_img, img_to_array, load_img\n",
        "'''Se importa el módulo Image'''\n",
        "from  PIL  import Image\n",
        "'''Se importa el módulo MinMaxScaler'''\n",
        "from sklearn.preprocessing import MinMaxScaler\n",
        "'''Se importa la libreria h5py'''\n",
        "import h5py\n",
        "'''Se importa el módulo sleep'''\n",
        "from time import sleep\n",
        "'''Se importa la librería patoolib'''\n",
        "import patoolib\n",
        "'''Se importa el módulo remove'''\n",
        "from rembg import remove"
      ]
    },
    {
      "cell_type": "code",
      "execution_count": 27,
      "metadata": {},
      "outputs": [],
      "source": [
        "os.chdir('C:/Users/Personal/IA/Laboratorio1U3')"
      ]
    },
    {
      "cell_type": "code",
      "execution_count": 28,
      "metadata": {
        "colab": {
          "base_uri": "https://localhost:8080/"
        },
        "id": "jA5DB2XjU2Yr",
        "outputId": "c4644145-2861-401d-b32f-0525740583ac"
      },
      "outputs": [
        {
          "name": "stdout",
          "output_type": "stream",
          "text": [
            "['GoyesAnthony', 'HerediaGenesis', 'SolorzanoBryan', 'WilmerSolano', 'ZambranoJhon']\n"
          ]
        }
      ],
      "source": [
        "'''Se establece la ruta de las imágenes'''\n",
        "ruta_imagenes = \"./Estudiantes_datos_origen\"\n",
        "'''Se muestra los directorios (clases) del dataset'''\n",
        "nombre_clases = os.listdir(ruta_imagenes)\n",
        "'''Se ordenan en orden alfabético (AZ - az)'''\n",
        "nombre_clases.sort()\n",
        "'''Se muestran las clases del dataset'''\n",
        "print(nombre_clases)"
      ]
    },
    {
      "cell_type": "code",
      "execution_count": 29,
      "metadata": {},
      "outputs": [],
      "source": [
        "def crearDirecotrio(ruta):\n",
        "    '''Pasos para almacenar los nuevos datos después de usar la técnica de\n",
        "    data augmented'''\n",
        "    '''Se establece el nombre y directorio de la carpeta que contendrá todo el dataset'''\n",
        "    directorio = ruta\n",
        "    '''Se crea un nuevo directorio con la ruta anterior'''\n",
        "    os.mkdir(directorio)\n",
        "    '''Se establece el nombre y directorio de la carpeta que contendrá las imágenes\n",
        "    de la clase \"totally_green\"'''\n",
        "    subdirectorio_goyes = directorio+\"/\"+\"GoyesAnthony\"\n",
        "    '''Se crea un nuevo directorio con la ruta anterior'''\n",
        "    os.mkdir(subdirectorio_goyes)\n",
        "    subdirectorio_heredia = directorio+\"/\"+\"HerediaGenesis\"\n",
        "    os.mkdir(subdirectorio_heredia)\n",
        "    subdirectorio_solorzano = directorio+\"/\"+\"SolorzanoBryan\"\n",
        "    os.mkdir(subdirectorio_solorzano)\n",
        "    subdirectorio_wilmer = directorio+\"/\"+\"WilmerSolano\"\n",
        "    os.mkdir(subdirectorio_wilmer)\n",
        "    subdirectorio_zambrano = directorio+\"/\"+\"ZambranoJhon\"\n",
        "    os.mkdir(subdirectorio_zambrano)"
      ]
    },
    {
      "cell_type": "code",
      "execution_count": 30,
      "metadata": {
        "id": "cyox732FjWBP"
      },
      "outputs": [],
      "source": [
        "ruta = './Estudiantes_datos_aumentados'\n",
        "crearDirecotrio(ruta)"
      ]
    },
    {
      "cell_type": "code",
      "execution_count": 31,
      "metadata": {
        "colab": {
          "base_uri": "https://localhost:8080/"
        },
        "id": "qM0XSJUTdT1t",
        "outputId": "5ec06f80-f452-4165-d94a-daa989f37cc2"
      },
      "outputs": [
        {
          "name": "stdout",
          "output_type": "stream",
          "text": [
            "Copiando imagen - L00393010_1.jpg en Estudiantes_datos_aumentados/GoyesAnthony\n",
            "Copiando imagen - L00393010_2.jpg en Estudiantes_datos_aumentados/GoyesAnthony\n",
            "Copiando imagen - L00393010_3.jpg en Estudiantes_datos_aumentados/GoyesAnthony\n",
            "Copiando imagen - L00392991_1.jpg en Estudiantes_datos_aumentados/HerediaGenesis\n",
            "Copiando imagen - L00392991_2.jpg en Estudiantes_datos_aumentados/HerediaGenesis\n",
            "Copiando imagen - L00392991_3.jpg en Estudiantes_datos_aumentados/HerediaGenesis\n",
            "Copiando imagen - L00080131_1.jpg en Estudiantes_datos_aumentados/SolorzanoBryan\n",
            "Copiando imagen - L00080131_2.jpg en Estudiantes_datos_aumentados/SolorzanoBryan\n",
            "Copiando imagen - L00080131_3.jpg en Estudiantes_datos_aumentados/SolorzanoBryan\n",
            "Copiando imagen - L00392980_1.jpg en Estudiantes_datos_aumentados/WilmerSolano\n",
            "Copiando imagen - L00392980_2.jpg en Estudiantes_datos_aumentados/WilmerSolano\n",
            "Copiando imagen - L00392980_3.jpg en Estudiantes_datos_aumentados/WilmerSolano\n",
            "Copiando imagen - L00392993_Centro.jpg en Estudiantes_datos_aumentados/ZambranoJhon\n",
            "Copiando imagen - L00392993_LD.jpg en Estudiantes_datos_aumentados/ZambranoJhon\n",
            "Copiando imagen - L00392993_LI.jpg en Estudiantes_datos_aumentados/ZambranoJhon\n"
          ]
        }
      ],
      "source": [
        "'''Se genera un bucle para recorrer cada etiqueta de las clases'''\n",
        "for nombre_clase in nombre_clases:\n",
        "    '''Se almacena la ruta actual de cada clase por ciclo'''\n",
        "    ruta_actual = ruta_imagenes + \"/\" + nombre_clase\n",
        "    '''Se obtiene una lista de los elementos por clase'''\n",
        "    elementos = os.listdir(ruta_actual) \n",
        "    '''Se genera un nuevo ciclo que recorre cada elemento por clase'''\n",
        "    for elemento in elementos:\n",
        "        imagen = ruta_actual+'/'+elemento\n",
        "        imagen = cv2.imread(imagen)\n",
        "        imagen = cv2.resize(imagen, (192,192))\n",
        "        '''Se imprime un mensaje del proceso'''\n",
        "        print(\"Copiando imagen - {} en Estudiantes_datos_aumentados/{}\".format(elemento, nombre_clase))\n",
        "        '''Se establece la ruta origen de ese elemento'''\n",
        "        #ruta_origen = os.path.join(ruta_imagenes + \"/\" + nombre_clase, elemento)\n",
        "        '''Se establece la ruta destino de ese elemento'''\n",
        "        ruta_destino = (\"C:/Users/Personal/IA/Laboratorio1U3/Estudiantes_datos_Aumentados/\" + nombre_clase + '/') \n",
        "        '''Se copia el elemento del origen al destino'''\n",
        "        cv2.imwrite(os.path.join(ruta_destino, elemento)    , imagen)"
      ]
    },
    {
      "cell_type": "markdown",
      "metadata": {
        "id": "HA2p2zojj803"
      },
      "source": [
        "# Aumento de datos (Data augmentation)"
      ]
    },
    {
      "cell_type": "code",
      "execution_count": 32,
      "metadata": {
        "id": "ZU9QJtYHj7xY"
      },
      "outputs": [],
      "source": [
        "'''Se crea un elemento para generar imagenes según sus hiperparámetros'''\n",
        "generacionDatos = ImageDataGenerator(\n",
        "        rotation_range=40,\n",
        "        width_shift_range=0.2,\n",
        "        height_shift_range=0.2,\n",
        "        rescale=1./255,\n",
        "        shear_range=0.2,\n",
        "        zoom_range=0.4,\n",
        "        horizontal_flip=True,\n",
        "        fill_mode='nearest')"
      ]
    },
    {
      "cell_type": "markdown",
      "metadata": {
        "id": "YRLNILFOkX5X"
      },
      "source": [
        "## Clase de \"Goyes Anthony\" (GoyesAnthony) "
      ]
    },
    {
      "cell_type": "code",
      "execution_count": 33,
      "metadata": {
        "id": "isD7TAOYkCnw"
      },
      "outputs": [],
      "source": [
        "'''Se redirecciona con una ruta dinámica para el sistema'''\n",
        "os.chdir(r'C:/Users/Personal/IA/Laboratorio1U3/Estudiantes_datos_aumentados/GoyesAnthony')\n",
        "'''Se genera una ciclo que recorre cada elemento de la clase \"GoyesAnthony\"'''\n",
        "for elemento in os.listdir():\n",
        "    '''Se almacena la imagen de la ruta'''\n",
        "    imagen = load_img(f\"{elemento}\")\n",
        "    '''Se almacena un array Numpy con forma (3, 150, 150)'''\n",
        "    x = img_to_array(imagen)    # this is a Numpy array with shape (3, 150, 150)\n",
        "    '''Se aumenta una dimensión por ciclo que hará referencia a cada elemento'''\n",
        "    \n",
        "    x = x.reshape((1,) + x.shape)\n",
        "    '''Se inicializa un iterador'''\n",
        "    iterador = 0\n",
        "    '''Se genera un ciclo que corrererá cada lote de la transformación con sus\n",
        "    hiperparámetros'''\n",
        "    for lote in generacionDatos.flow(x, batch_size=1,\n",
        "            save_to_dir=\".\", \n",
        "            save_prefix= 'totally_green', \n",
        "            save_format='jpg'):\n",
        "        '''Se aumenta en una unidad en el iterador'''\n",
        "        iterador += 1\n",
        "        '''Se crea 5 imágenes de cada imagen'''\n",
        "        if iterador == 10: \n",
        "            break  "
      ]
    },
    {
      "cell_type": "markdown",
      "metadata": {
        "id": "QA9acn_gk4kC"
      },
      "source": [
        "## Clase de \"Heredia Genesis\" (HerediaGenesis) "
      ]
    },
    {
      "cell_type": "code",
      "execution_count": 34,
      "metadata": {
        "id": "3sFvVcpMlA7w"
      },
      "outputs": [],
      "source": [
        "'''Se redirecciona con una ruta dinámica para el sistema'''\n",
        "os.chdir(r'C:/Users/Personal/IA/Laboratorio1U3/Estudiantes_datos_aumentados/HerediaGenesis')\n",
        "'''Se genera una ciclo que recorre cada elemento de la clase \"HerediaGenesis\"'''\n",
        "for ruta in os.listdir():\n",
        "    '''Se almacena la imagen de la ruta'''\n",
        "    imagen = load_img(f\"{ruta}\")\n",
        "    '''Se almacena un array Numpy con forma (3, 150, 150)'''\n",
        "    x = img_to_array(imagen) \n",
        "    '''Se aumenta una dimensión por ciclo que hará referencia a cada elemento'''\n",
        "    x = x.reshape((1,) + x.shape)\n",
        "    '''Se inicializa un iterador'''\n",
        "    iterador = 0\n",
        "    '''Se genera un ciclo que corrererá cada lote de la transformación con sus\n",
        "    hiperparámetros'''\n",
        "    for batch in generacionDatos.flow(x, batch_size=1,\n",
        "            save_to_dir=\".\",  \n",
        "            save_prefix= 'yellow_with_green_tips', \n",
        "            save_format='jpg'):\n",
        "        '''Se aumenta en una unidad en el iterador'''\n",
        "        iterador += 1\n",
        "        '''Se crea 5 imágenes de cada imagen'''\n",
        "        if iterador == 10:\n",
        "            break  "
      ]
    },
    {
      "cell_type": "markdown",
      "metadata": {
        "id": "K8ElA1yBk42J"
      },
      "source": [
        "## Clase de \"Solórzano Bryan\" (SolórzanoBryan)"
      ]
    },
    {
      "cell_type": "code",
      "execution_count": 35,
      "metadata": {
        "id": "bvz03BW3lLa4"
      },
      "outputs": [],
      "source": [
        "'''Se redirecciona con una ruta dinámica para el sistema'''\n",
        "os.chdir(r'C:/Users/Personal/IA/Laboratorio1U3/Estudiantes_datos_aumentados/SolorzanoBryan')\n",
        "'''Se genera una ciclo que recorre cada elemento de la clase \"SolorzanoBryan'''\n",
        "for ruta in os.listdir():\n",
        "    '''Se almacena la imagen de la ruta'''\n",
        "    imagen = load_img(f\"{ruta}\")\n",
        "    '''Se almacena un array Numpy con forma (3, 150, 150)'''\n",
        "    x = img_to_array(imagen) \n",
        "    '''Se aumenta una dimensión por ciclo que hará referencia a cada elemento'''\n",
        "    x = x.reshape((1,) + x.shape)\n",
        "    '''Se inicializa un iterador'''\n",
        "    iterador = 0\n",
        "    '''Se genera un ciclo que corrererá cada lote de la transformación con sus\n",
        "    hiperparámetros'''\n",
        "    for batch in generacionDatos.flow(x, batch_size=1,\n",
        "            save_to_dir=\".\",   \n",
        "            save_prefix= 'yellow_with_brown_spots', \n",
        "            save_format='jpg'):\n",
        "        '''Se aumenta en una unidad en el iterador'''\n",
        "        iterador += 1\n",
        "        '''Se crea 5 imágenes de cada imagen'''\n",
        "        if iterador == 10:\n",
        "            break "
      ]
    },
    {
      "cell_type": "markdown",
      "metadata": {
        "id": "K8ElA1yBk42J"
      },
      "source": [
        "## Clase de \"Wilmer Solano\" (WilmerSolano)"
      ]
    },
    {
      "cell_type": "code",
      "execution_count": 36,
      "metadata": {
        "id": "bvz03BW3lLa4"
      },
      "outputs": [],
      "source": [
        "'''Se redirecciona con una ruta dinámica para el sistema'''\n",
        "os.chdir(r'C:/Users/Personal/IA/Laboratorio1U3/Estudiantes_datos_aumentados/WilmerSolano')\n",
        "'''Se genera una ciclo que recorre cada elemento de la clase \"WilmerSolano'''\n",
        "for ruta in os.listdir():\n",
        "    '''Se almacena la imagen de la ruta'''\n",
        "    imagen = load_img(f\"{ruta}\")\n",
        "    '''Se almacena un array Numpy con forma (3, 150, 150)'''\n",
        "    x = img_to_array(imagen) \n",
        "    '''Se aumenta una dimensión por ciclo que hará referencia a cada elemento'''\n",
        "    x = x.reshape((1,) + x.shape)\n",
        "    '''Se inicializa un iterador'''\n",
        "    iterador = 0\n",
        "    '''Se genera un ciclo que corrererá cada lote de la transformación con sus\n",
        "    hiperparámetros'''\n",
        "    for batch in generacionDatos.flow(x, batch_size=1,\n",
        "            save_to_dir=\".\",   \n",
        "            save_prefix= 'yellow_with_brown_spots', \n",
        "            save_format='jpg'):\n",
        "        '''Se aumenta en una unidad en el iterador'''\n",
        "        iterador += 1\n",
        "        '''Se crea 5 imágenes de cada imagen'''\n",
        "        if iterador == 10:\n",
        "            break "
      ]
    },
    {
      "cell_type": "markdown",
      "metadata": {
        "id": "K8ElA1yBk42J"
      },
      "source": [
        "## Clase de \"Zambrano Jhon\" (ZambranoJhon)"
      ]
    },
    {
      "cell_type": "code",
      "execution_count": 37,
      "metadata": {
        "id": "bvz03BW3lLa4"
      },
      "outputs": [],
      "source": [
        "'''Se redirecciona con una ruta dinámica para el sistema'''\n",
        "os.chdir(r'C:/Users/Personal/IA/Laboratorio1U3/Estudiantes_datos_aumentados/ZambranoJhon')\n",
        "'''Se genera una ciclo que recorre cada elemento de la clase \"ZambranoJhon'''\n",
        "for ruta in os.listdir():\n",
        "    '''Se almacena la imagen de la ruta'''\n",
        "    imagen = load_img(f\"{ruta}\")\n",
        "    '''Se almacena un array Numpy con forma (3, 150, 150)'''\n",
        "    x = img_to_array(imagen) \n",
        "    '''Se aumenta una dimensión por ciclo que hará referencia a cada elemento'''\n",
        "    x = x.reshape((1,) + x.shape)\n",
        "    '''Se inicializa un iterador'''\n",
        "    iterador = 0\n",
        "    '''Se genera un ciclo que corrererá cada lote de la transformación con sus\n",
        "    hiperparámetros'''\n",
        "    for batch in generacionDatos.flow(x, batch_size=1,\n",
        "            save_to_dir=\".\",   \n",
        "            save_prefix= 'yellow_with_brown_spots', \n",
        "            save_format='jpg'):\n",
        "        '''Se aumenta en una unidad en el iterador'''\n",
        "        iterador += 1\n",
        "        '''Se crea 5 imágenes de cada imagen'''\n",
        "        if iterador == 10:\n",
        "            break "
      ]
    },
    {
      "cell_type": "markdown",
      "metadata": {
        "id": "VKr9_MnqHzhJ"
      },
      "source": [
        "## Filtro NLM para la eliminación de ruido de las imágenes"
      ]
    },
    {
      "cell_type": "code",
      "execution_count": 38,
      "metadata": {
        "colab": {
          "base_uri": "https://localhost:8080/"
        },
        "id": "vDs2urFBlgaP",
        "outputId": "9670aa95-e815-40bf-fa51-667720191af2"
      },
      "outputs": [
        {
          "name": "stdout",
          "output_type": "stream",
          "text": [
            "['GoyesAnthony', 'HerediaGenesis', 'SolorzanoBryan', 'WilmerSolano', 'ZambranoJhon']\n"
          ]
        }
      ],
      "source": [
        "'''Se redirecciona con una ruta dinámica al directorio general\n",
        "para el sistema'''\n",
        "os.chdir(r'C:/Users/Personal/IA/Laboratorio1U3')\n",
        "'''Se establece la ruta que contiene a las clases del dataset'''\n",
        "ruta_imagenes = \"./Estudiantes_datos_Aumentados\"\n",
        "'''Se almacena los directorios de cada clase'''\n",
        "nombre_clases = os.listdir(ruta_imagenes)\n",
        "'''Se ordena los elementos por orden alfabético'''\n",
        "nombre_clases.sort()\n",
        "'''Se imprimen las clases'''\n",
        "print(nombre_clases)"
      ]
    },
    {
      "cell_type": "code",
      "execution_count": 39,
      "metadata": {
        "id": "U6IukAQxbIQK"
      },
      "outputs": [],
      "source": [
        "ruta = './Estudiantes_datos_ruidoEliminado'\n",
        "crearDirecotrio(ruta)"
      ]
    },
    {
      "cell_type": "code",
      "execution_count": 40,
      "metadata": {
        "colab": {
          "base_uri": "https://localhost:8080/"
        },
        "id": "_IYyj5DWlnk3",
        "outputId": "2a7b9798-9919-4329-9590-3c0180453648"
      },
      "outputs": [
        {
          "name": "stdout",
          "output_type": "stream",
          "text": [
            "Procesando imagen - 1 en GoyesAnthony\n",
            "Procesando imagen - 2 en GoyesAnthony\n",
            "Procesando imagen - 3 en GoyesAnthony\n",
            "Procesando imagen - 4 en GoyesAnthony\n",
            "Procesando imagen - 5 en GoyesAnthony\n",
            "Procesando imagen - 6 en GoyesAnthony\n",
            "Procesando imagen - 7 en GoyesAnthony\n",
            "Procesando imagen - 8 en GoyesAnthony\n",
            "Procesando imagen - 9 en GoyesAnthony\n",
            "Procesando imagen - 10 en GoyesAnthony\n",
            "Procesando imagen - 11 en GoyesAnthony\n",
            "Procesando imagen - 12 en GoyesAnthony\n",
            "Procesando imagen - 13 en GoyesAnthony\n",
            "Procesando imagen - 14 en GoyesAnthony\n",
            "Procesando imagen - 15 en GoyesAnthony\n",
            "Procesando imagen - 16 en GoyesAnthony\n",
            "Procesando imagen - 17 en GoyesAnthony\n",
            "Procesando imagen - 18 en GoyesAnthony\n",
            "Procesando imagen - 19 en GoyesAnthony\n",
            "Procesando imagen - 20 en GoyesAnthony\n",
            "Procesando imagen - 21 en GoyesAnthony\n",
            "Procesando imagen - 22 en GoyesAnthony\n",
            "Procesando imagen - 23 en GoyesAnthony\n",
            "Procesando imagen - 24 en GoyesAnthony\n",
            "Procesando imagen - 25 en GoyesAnthony\n",
            "Procesando imagen - 26 en GoyesAnthony\n",
            "Procesando imagen - 27 en GoyesAnthony\n",
            "Procesando imagen - 28 en GoyesAnthony\n",
            "Procesando imagen - 29 en GoyesAnthony\n",
            "Procesando imagen - 30 en GoyesAnthony\n",
            "Procesando imagen - 31 en GoyesAnthony\n",
            "Procesando imagen - 32 en GoyesAnthony\n",
            "Procesando imagen - 33 en GoyesAnthony\n",
            "Procesando imagen - 1 en HerediaGenesis\n",
            "Procesando imagen - 2 en HerediaGenesis\n",
            "Procesando imagen - 3 en HerediaGenesis\n",
            "Procesando imagen - 4 en HerediaGenesis\n",
            "Procesando imagen - 5 en HerediaGenesis\n",
            "Procesando imagen - 6 en HerediaGenesis\n",
            "Procesando imagen - 7 en HerediaGenesis\n",
            "Procesando imagen - 8 en HerediaGenesis\n",
            "Procesando imagen - 9 en HerediaGenesis\n",
            "Procesando imagen - 10 en HerediaGenesis\n",
            "Procesando imagen - 11 en HerediaGenesis\n",
            "Procesando imagen - 12 en HerediaGenesis\n",
            "Procesando imagen - 13 en HerediaGenesis\n",
            "Procesando imagen - 14 en HerediaGenesis\n",
            "Procesando imagen - 15 en HerediaGenesis\n",
            "Procesando imagen - 16 en HerediaGenesis\n",
            "Procesando imagen - 17 en HerediaGenesis\n",
            "Procesando imagen - 18 en HerediaGenesis\n",
            "Procesando imagen - 19 en HerediaGenesis\n",
            "Procesando imagen - 20 en HerediaGenesis\n",
            "Procesando imagen - 21 en HerediaGenesis\n",
            "Procesando imagen - 22 en HerediaGenesis\n",
            "Procesando imagen - 23 en HerediaGenesis\n",
            "Procesando imagen - 24 en HerediaGenesis\n",
            "Procesando imagen - 25 en HerediaGenesis\n",
            "Procesando imagen - 26 en HerediaGenesis\n",
            "Procesando imagen - 27 en HerediaGenesis\n",
            "Procesando imagen - 28 en HerediaGenesis\n",
            "Procesando imagen - 29 en HerediaGenesis\n",
            "Procesando imagen - 30 en HerediaGenesis\n",
            "Procesando imagen - 31 en HerediaGenesis\n",
            "Procesando imagen - 32 en HerediaGenesis\n",
            "Procesando imagen - 33 en HerediaGenesis\n",
            "Procesando imagen - 1 en SolorzanoBryan\n",
            "Procesando imagen - 2 en SolorzanoBryan\n",
            "Procesando imagen - 3 en SolorzanoBryan\n",
            "Procesando imagen - 4 en SolorzanoBryan\n",
            "Procesando imagen - 5 en SolorzanoBryan\n",
            "Procesando imagen - 6 en SolorzanoBryan\n",
            "Procesando imagen - 7 en SolorzanoBryan\n",
            "Procesando imagen - 8 en SolorzanoBryan\n",
            "Procesando imagen - 9 en SolorzanoBryan\n",
            "Procesando imagen - 10 en SolorzanoBryan\n",
            "Procesando imagen - 11 en SolorzanoBryan\n",
            "Procesando imagen - 12 en SolorzanoBryan\n",
            "Procesando imagen - 13 en SolorzanoBryan\n",
            "Procesando imagen - 14 en SolorzanoBryan\n",
            "Procesando imagen - 15 en SolorzanoBryan\n",
            "Procesando imagen - 16 en SolorzanoBryan\n",
            "Procesando imagen - 17 en SolorzanoBryan\n",
            "Procesando imagen - 18 en SolorzanoBryan\n",
            "Procesando imagen - 19 en SolorzanoBryan\n",
            "Procesando imagen - 20 en SolorzanoBryan\n",
            "Procesando imagen - 21 en SolorzanoBryan\n",
            "Procesando imagen - 22 en SolorzanoBryan\n",
            "Procesando imagen - 23 en SolorzanoBryan\n",
            "Procesando imagen - 24 en SolorzanoBryan\n",
            "Procesando imagen - 25 en SolorzanoBryan\n",
            "Procesando imagen - 26 en SolorzanoBryan\n",
            "Procesando imagen - 27 en SolorzanoBryan\n",
            "Procesando imagen - 28 en SolorzanoBryan\n",
            "Procesando imagen - 29 en SolorzanoBryan\n",
            "Procesando imagen - 30 en SolorzanoBryan\n",
            "Procesando imagen - 31 en SolorzanoBryan\n",
            "Procesando imagen - 32 en SolorzanoBryan\n",
            "Procesando imagen - 33 en SolorzanoBryan\n",
            "Procesando imagen - 1 en WilmerSolano\n",
            "Procesando imagen - 2 en WilmerSolano\n",
            "Procesando imagen - 3 en WilmerSolano\n",
            "Procesando imagen - 4 en WilmerSolano\n",
            "Procesando imagen - 5 en WilmerSolano\n",
            "Procesando imagen - 6 en WilmerSolano\n",
            "Procesando imagen - 7 en WilmerSolano\n",
            "Procesando imagen - 8 en WilmerSolano\n",
            "Procesando imagen - 9 en WilmerSolano\n",
            "Procesando imagen - 10 en WilmerSolano\n",
            "Procesando imagen - 11 en WilmerSolano\n",
            "Procesando imagen - 12 en WilmerSolano\n",
            "Procesando imagen - 13 en WilmerSolano\n",
            "Procesando imagen - 14 en WilmerSolano\n",
            "Procesando imagen - 15 en WilmerSolano\n",
            "Procesando imagen - 16 en WilmerSolano\n",
            "Procesando imagen - 17 en WilmerSolano\n",
            "Procesando imagen - 18 en WilmerSolano\n",
            "Procesando imagen - 19 en WilmerSolano\n",
            "Procesando imagen - 20 en WilmerSolano\n",
            "Procesando imagen - 21 en WilmerSolano\n",
            "Procesando imagen - 22 en WilmerSolano\n",
            "Procesando imagen - 23 en WilmerSolano\n",
            "Procesando imagen - 24 en WilmerSolano\n",
            "Procesando imagen - 25 en WilmerSolano\n",
            "Procesando imagen - 26 en WilmerSolano\n",
            "Procesando imagen - 27 en WilmerSolano\n",
            "Procesando imagen - 28 en WilmerSolano\n",
            "Procesando imagen - 29 en WilmerSolano\n",
            "Procesando imagen - 30 en WilmerSolano\n",
            "Procesando imagen - 31 en WilmerSolano\n",
            "Procesando imagen - 32 en WilmerSolano\n",
            "Procesando imagen - 33 en WilmerSolano\n",
            "Procesando imagen - 1 en ZambranoJhon\n",
            "Procesando imagen - 2 en ZambranoJhon\n",
            "Procesando imagen - 3 en ZambranoJhon\n",
            "Procesando imagen - 4 en ZambranoJhon\n",
            "Procesando imagen - 5 en ZambranoJhon\n",
            "Procesando imagen - 6 en ZambranoJhon\n",
            "Procesando imagen - 7 en ZambranoJhon\n",
            "Procesando imagen - 8 en ZambranoJhon\n",
            "Procesando imagen - 9 en ZambranoJhon\n",
            "Procesando imagen - 10 en ZambranoJhon\n",
            "Procesando imagen - 11 en ZambranoJhon\n",
            "Procesando imagen - 12 en ZambranoJhon\n",
            "Procesando imagen - 13 en ZambranoJhon\n",
            "Procesando imagen - 14 en ZambranoJhon\n",
            "Procesando imagen - 15 en ZambranoJhon\n",
            "Procesando imagen - 16 en ZambranoJhon\n",
            "Procesando imagen - 17 en ZambranoJhon\n",
            "Procesando imagen - 18 en ZambranoJhon\n",
            "Procesando imagen - 19 en ZambranoJhon\n",
            "Procesando imagen - 20 en ZambranoJhon\n",
            "Procesando imagen - 21 en ZambranoJhon\n",
            "Procesando imagen - 22 en ZambranoJhon\n",
            "Procesando imagen - 23 en ZambranoJhon\n",
            "Procesando imagen - 24 en ZambranoJhon\n",
            "Procesando imagen - 25 en ZambranoJhon\n",
            "Procesando imagen - 26 en ZambranoJhon\n",
            "Procesando imagen - 27 en ZambranoJhon\n",
            "Procesando imagen - 28 en ZambranoJhon\n",
            "Procesando imagen - 29 en ZambranoJhon\n",
            "Procesando imagen - 30 en ZambranoJhon\n",
            "Procesando imagen - 31 en ZambranoJhon\n",
            "Procesando imagen - 32 en ZambranoJhon\n",
            "Procesando imagen - 33 en ZambranoJhon\n"
          ]
        }
      ],
      "source": [
        "'''Se genera un bucle para recorrer cada etiqueta de las clases'''\n",
        "for nombre_clase in nombre_clases:     \n",
        "    '''Se almacena la ruta actual de cada clase por ciclo'''\n",
        "    ruta_actual = ruta_imagenes + \"/\" + nombre_clase\n",
        "    '''Se almacenan las etiquetas de las clases'''\n",
        "    etiqueta_actual = nombre_clase\n",
        "    '''Se genera un iterador'''\n",
        "    iterador = 1\n",
        "    '''Se recorre cada imagen por clase sin importar su nombre o extensión'''\n",
        "    for file in glob.glob(ruta_actual + \"/*\"):\n",
        "        '''Se imprime el proceso'''\n",
        "        print(\"Procesando imagen - {} en {}\".format(iterador, etiqueta_actual))\n",
        "        '''Se leen las rutas de las imágenes'''\n",
        "        imagen = cv2.imread(file)\n",
        "        '''Se establece la denotación de imágenes'''\n",
        "        dst = cv2.fastNlMeansDenoisingColored(imagen,None,10,10,7,21)\n",
        "        '''Se divide por capa de color'''\n",
        "        b,g,r = cv2.split(dst)\n",
        "        '''Se unen las capas seperadas en orden (r,g,b)'''\n",
        "        rgb_dst = cv2.merge([r,g,b])\n",
        "        '''Se guardan las imagenes'''\n",
        "        ruta_guardado = './Estudiantes_datos_ruidoEliminado/'+ etiqueta_actual\n",
        "        '''Se genera cada imagen según la ruta de guardado'''\n",
        "        cv2.imwrite(os.path.join(ruta_guardado , etiqueta_actual + '_' + str(iterador) + '.jpg'),\n",
        "                    cv2.cvtColor(rgb_dst,cv2.COLOR_RGB2BGR))\n",
        "        \n",
        "        '''Se muestra la actualización del bucle'''\n",
        "        iterador += 1"
      ]
    },
    {
      "cell_type": "markdown",
      "metadata": {
        "id": "ewYwU_AkE7ZK"
      },
      "source": [
        "## Eliminando el fondo"
      ]
    },
    {
      "cell_type": "code",
      "execution_count": 41,
      "metadata": {
        "colab": {
          "base_uri": "https://localhost:8080/"
        },
        "id": "YtB_jbi3FInH",
        "outputId": "2fdea005-0dfd-4fdf-e65d-66739b108070"
      },
      "outputs": [
        {
          "name": "stdout",
          "output_type": "stream",
          "text": [
            "['GoyesAnthony', 'HerediaGenesis', 'SolorzanoBryan', 'WilmerSolano', 'ZambranoJhon']\n"
          ]
        }
      ],
      "source": [
        "ruta_imagenes = \"./Estudiantes_datos_ruidoEliminado\"\n",
        "nombre_clases = os.listdir(ruta_imagenes)\n",
        "nombre_clases.sort()\n",
        "print(nombre_clases)"
      ]
    },
    {
      "cell_type": "code",
      "execution_count": 42,
      "metadata": {
        "id": "8juKn7xBcTPG"
      },
      "outputs": [],
      "source": [
        "ruta = './Estudiantes_datos_fondoEliminado'\n",
        "crearDirecotrio(ruta)"
      ]
    },
    {
      "cell_type": "code",
      "execution_count": 44,
      "metadata": {
        "id": "2NOS_IANGp_g"
      },
      "outputs": [
        {
          "name": "stdout",
          "output_type": "stream",
          "text": [
            "Procesando imaegen - 1 en GoyesAnthony\n"
          ]
        },
        {
          "name": "stderr",
          "output_type": "stream",
          "text": [
            "Downloading...\n",
            "From: https://drive.google.com/uc?id=1tCU5MM1LhRgGou5OpmpjBQbSrYIUoYab\n",
            "To: C:\\Users\\Personal\\.u2net\\u2net.onnx\n",
            "100%|██████████| 176M/176M [01:56<00:00, 1.51MB/s] \n"
          ]
        },
        {
          "name": "stdout",
          "output_type": "stream",
          "text": [
            "Procesando imaegen - 2 en GoyesAnthony\n",
            "Procesando imaegen - 3 en GoyesAnthony\n",
            "Procesando imaegen - 4 en GoyesAnthony\n",
            "Procesando imaegen - 5 en GoyesAnthony\n",
            "Procesando imaegen - 6 en GoyesAnthony\n",
            "Procesando imaegen - 7 en GoyesAnthony\n",
            "Procesando imaegen - 8 en GoyesAnthony\n",
            "Procesando imaegen - 9 en GoyesAnthony\n",
            "Procesando imaegen - 10 en GoyesAnthony\n",
            "Procesando imaegen - 11 en GoyesAnthony\n",
            "Procesando imaegen - 12 en GoyesAnthony\n",
            "Procesando imaegen - 13 en GoyesAnthony\n",
            "Procesando imaegen - 14 en GoyesAnthony\n",
            "Procesando imaegen - 15 en GoyesAnthony\n",
            "Procesando imaegen - 16 en GoyesAnthony\n",
            "Procesando imaegen - 17 en GoyesAnthony\n",
            "Procesando imaegen - 18 en GoyesAnthony\n",
            "Procesando imaegen - 19 en GoyesAnthony\n",
            "Procesando imaegen - 20 en GoyesAnthony\n",
            "Procesando imaegen - 21 en GoyesAnthony\n",
            "Procesando imaegen - 22 en GoyesAnthony\n",
            "Procesando imaegen - 23 en GoyesAnthony\n",
            "Procesando imaegen - 24 en GoyesAnthony\n",
            "Procesando imaegen - 25 en GoyesAnthony\n",
            "Procesando imaegen - 26 en GoyesAnthony\n",
            "Procesando imaegen - 27 en GoyesAnthony\n",
            "Procesando imaegen - 28 en GoyesAnthony\n",
            "Procesando imaegen - 29 en GoyesAnthony\n",
            "Procesando imaegen - 30 en GoyesAnthony\n",
            "Procesando imaegen - 31 en GoyesAnthony\n",
            "Procesando imaegen - 32 en GoyesAnthony\n",
            "Procesando imaegen - 33 en GoyesAnthony\n",
            "Procesando imaegen - 1 en HerediaGenesis\n",
            "Procesando imaegen - 2 en HerediaGenesis\n",
            "Procesando imaegen - 3 en HerediaGenesis\n",
            "Procesando imaegen - 4 en HerediaGenesis\n",
            "Procesando imaegen - 5 en HerediaGenesis\n",
            "Procesando imaegen - 6 en HerediaGenesis\n",
            "Procesando imaegen - 7 en HerediaGenesis\n",
            "Procesando imaegen - 8 en HerediaGenesis\n",
            "Procesando imaegen - 9 en HerediaGenesis\n",
            "Procesando imaegen - 10 en HerediaGenesis\n",
            "Procesando imaegen - 11 en HerediaGenesis\n",
            "Procesando imaegen - 12 en HerediaGenesis\n",
            "Procesando imaegen - 13 en HerediaGenesis\n",
            "Procesando imaegen - 14 en HerediaGenesis\n",
            "Procesando imaegen - 15 en HerediaGenesis\n",
            "Procesando imaegen - 16 en HerediaGenesis\n",
            "Procesando imaegen - 17 en HerediaGenesis\n",
            "Procesando imaegen - 18 en HerediaGenesis\n",
            "Procesando imaegen - 19 en HerediaGenesis\n",
            "Procesando imaegen - 20 en HerediaGenesis\n",
            "Procesando imaegen - 21 en HerediaGenesis\n",
            "Procesando imaegen - 22 en HerediaGenesis\n",
            "Procesando imaegen - 23 en HerediaGenesis\n",
            "Procesando imaegen - 24 en HerediaGenesis\n",
            "Procesando imaegen - 25 en HerediaGenesis\n",
            "Procesando imaegen - 26 en HerediaGenesis\n",
            "Procesando imaegen - 27 en HerediaGenesis\n",
            "Procesando imaegen - 28 en HerediaGenesis\n",
            "Procesando imaegen - 29 en HerediaGenesis\n",
            "Procesando imaegen - 30 en HerediaGenesis\n",
            "Procesando imaegen - 31 en HerediaGenesis\n",
            "Procesando imaegen - 32 en HerediaGenesis\n",
            "Procesando imaegen - 33 en HerediaGenesis\n",
            "Procesando imaegen - 1 en SolorzanoBryan\n",
            "Procesando imaegen - 2 en SolorzanoBryan\n",
            "Procesando imaegen - 3 en SolorzanoBryan\n",
            "Procesando imaegen - 4 en SolorzanoBryan\n",
            "Procesando imaegen - 5 en SolorzanoBryan\n",
            "Procesando imaegen - 6 en SolorzanoBryan\n",
            "Procesando imaegen - 7 en SolorzanoBryan\n",
            "Procesando imaegen - 8 en SolorzanoBryan\n",
            "Procesando imaegen - 9 en SolorzanoBryan\n",
            "Procesando imaegen - 10 en SolorzanoBryan\n",
            "Procesando imaegen - 11 en SolorzanoBryan\n",
            "Procesando imaegen - 12 en SolorzanoBryan\n",
            "Procesando imaegen - 13 en SolorzanoBryan\n",
            "Procesando imaegen - 14 en SolorzanoBryan\n",
            "Procesando imaegen - 15 en SolorzanoBryan\n",
            "Procesando imaegen - 16 en SolorzanoBryan\n",
            "Procesando imaegen - 17 en SolorzanoBryan\n",
            "Procesando imaegen - 18 en SolorzanoBryan\n",
            "Procesando imaegen - 19 en SolorzanoBryan\n",
            "Procesando imaegen - 20 en SolorzanoBryan\n",
            "Procesando imaegen - 21 en SolorzanoBryan\n",
            "Procesando imaegen - 22 en SolorzanoBryan\n",
            "Procesando imaegen - 23 en SolorzanoBryan\n",
            "Procesando imaegen - 24 en SolorzanoBryan\n",
            "Procesando imaegen - 25 en SolorzanoBryan\n",
            "Procesando imaegen - 26 en SolorzanoBryan\n",
            "Procesando imaegen - 27 en SolorzanoBryan\n",
            "Procesando imaegen - 28 en SolorzanoBryan\n",
            "Procesando imaegen - 29 en SolorzanoBryan\n",
            "Procesando imaegen - 30 en SolorzanoBryan\n",
            "Procesando imaegen - 31 en SolorzanoBryan\n",
            "Procesando imaegen - 32 en SolorzanoBryan\n",
            "Procesando imaegen - 33 en SolorzanoBryan\n",
            "Procesando imaegen - 1 en WilmerSolano\n",
            "Procesando imaegen - 2 en WilmerSolano\n",
            "Procesando imaegen - 3 en WilmerSolano\n",
            "Procesando imaegen - 4 en WilmerSolano\n",
            "Procesando imaegen - 5 en WilmerSolano\n",
            "Procesando imaegen - 6 en WilmerSolano\n",
            "Procesando imaegen - 7 en WilmerSolano\n",
            "Procesando imaegen - 8 en WilmerSolano\n",
            "Procesando imaegen - 9 en WilmerSolano\n",
            "Procesando imaegen - 10 en WilmerSolano\n",
            "Procesando imaegen - 11 en WilmerSolano\n",
            "Procesando imaegen - 12 en WilmerSolano\n",
            "Procesando imaegen - 13 en WilmerSolano\n",
            "Procesando imaegen - 14 en WilmerSolano\n",
            "Procesando imaegen - 15 en WilmerSolano\n",
            "Procesando imaegen - 16 en WilmerSolano\n",
            "Procesando imaegen - 17 en WilmerSolano\n",
            "Procesando imaegen - 18 en WilmerSolano\n",
            "Procesando imaegen - 19 en WilmerSolano\n",
            "Procesando imaegen - 20 en WilmerSolano\n",
            "Procesando imaegen - 21 en WilmerSolano\n",
            "Procesando imaegen - 22 en WilmerSolano\n",
            "Procesando imaegen - 23 en WilmerSolano\n",
            "Procesando imaegen - 24 en WilmerSolano\n",
            "Procesando imaegen - 25 en WilmerSolano\n",
            "Procesando imaegen - 26 en WilmerSolano\n",
            "Procesando imaegen - 27 en WilmerSolano\n",
            "Procesando imaegen - 28 en WilmerSolano\n",
            "Procesando imaegen - 29 en WilmerSolano\n",
            "Procesando imaegen - 30 en WilmerSolano\n",
            "Procesando imaegen - 31 en WilmerSolano\n",
            "Procesando imaegen - 32 en WilmerSolano\n",
            "Procesando imaegen - 33 en WilmerSolano\n",
            "Procesando imaegen - 1 en ZambranoJhon\n",
            "Procesando imaegen - 2 en ZambranoJhon\n",
            "Procesando imaegen - 3 en ZambranoJhon\n",
            "Procesando imaegen - 4 en ZambranoJhon\n",
            "Procesando imaegen - 5 en ZambranoJhon\n",
            "Procesando imaegen - 6 en ZambranoJhon\n",
            "Procesando imaegen - 7 en ZambranoJhon\n",
            "Procesando imaegen - 8 en ZambranoJhon\n",
            "Procesando imaegen - 9 en ZambranoJhon\n",
            "Procesando imaegen - 10 en ZambranoJhon\n",
            "Procesando imaegen - 11 en ZambranoJhon\n",
            "Procesando imaegen - 12 en ZambranoJhon\n",
            "Procesando imaegen - 13 en ZambranoJhon\n",
            "Procesando imaegen - 14 en ZambranoJhon\n",
            "Procesando imaegen - 15 en ZambranoJhon\n",
            "Procesando imaegen - 16 en ZambranoJhon\n",
            "Procesando imaegen - 17 en ZambranoJhon\n",
            "Procesando imaegen - 18 en ZambranoJhon\n",
            "Procesando imaegen - 19 en ZambranoJhon\n",
            "Procesando imaegen - 20 en ZambranoJhon\n",
            "Procesando imaegen - 21 en ZambranoJhon\n",
            "Procesando imaegen - 22 en ZambranoJhon\n",
            "Procesando imaegen - 23 en ZambranoJhon\n",
            "Procesando imaegen - 24 en ZambranoJhon\n",
            "Procesando imaegen - 25 en ZambranoJhon\n",
            "Procesando imaegen - 26 en ZambranoJhon\n",
            "Procesando imaegen - 27 en ZambranoJhon\n",
            "Procesando imaegen - 28 en ZambranoJhon\n",
            "Procesando imaegen - 29 en ZambranoJhon\n",
            "Procesando imaegen - 30 en ZambranoJhon\n",
            "Procesando imaegen - 31 en ZambranoJhon\n",
            "Procesando imaegen - 32 en ZambranoJhon\n",
            "Procesando imaegen - 33 en ZambranoJhon\n"
          ]
        }
      ],
      "source": [
        "'''Se genera un bucle para recorrer cada etiqueta de las clases'''\n",
        "for nombre_clase in nombre_clases:\n",
        "    '''Se almacena la ruta actual de cada clase por ciclo'''\n",
        "    ruta_actual = ruta_imagenes + \"/\" + nombre_clase\n",
        "    '''Se almacenan las etiquetas de las clases'''\n",
        "    etiqueta_actual = nombre_clase\n",
        "    '''Se genera un iterador'''\n",
        "    iterador = 1\n",
        "    '''Se recorre cada imagen por clase sin importar su nombre o extensión'''\n",
        "    for file in glob.glob(ruta_actual + \"/*\"):\n",
        "        '''Se imprime el proceso'''\n",
        "        print(\"Procesando imaegen - {} en {}\".format(iterador, etiqueta_actual))\n",
        "        '''Se leen las rutas de las imágenes'''\n",
        "        imagen = cv2.imread(file)\n",
        "        '''Se remueve el fondo'''\n",
        "        salida = remove(imagen)\n",
        "        '''Se guardan las imagenes'''\n",
        "        ruta_guardado = './Estudiantes_datos_fondoEliminado/'+ etiqueta_actual\n",
        "        '''Se genera cada imagen según la ruta de guardado'''\n",
        "        cv2.imwrite(os.path.join(ruta_guardado , etiqueta_actual + '_' + str(iterador) + '.png'), salida)\n",
        "        \n",
        "        '''Se aumenta el iterador'''\n",
        "        iterador += 1"
      ]
    }
  ],
  "metadata": {
    "colab": {
      "name": "[NRC_6278]AnthonyGoyes_Taller2PrepoImag.ipynb",
      "provenance": []
    },
    "kernelspec": {
      "display_name": "Python 3.9.12 ('base')",
      "language": "python",
      "name": "python3"
    },
    "language_info": {
      "codemirror_mode": {
        "name": "ipython",
        "version": 3
      },
      "file_extension": ".py",
      "mimetype": "text/x-python",
      "name": "python",
      "nbconvert_exporter": "python",
      "pygments_lexer": "ipython3",
      "version": "3.9.12"
    },
    "vscode": {
      "interpreter": {
        "hash": "de3a36d475e5f26841ec7388f3bf55db2f49f9bc2f20706f42a79b37e051f6ab"
      }
    }
  },
  "nbformat": 4,
  "nbformat_minor": 0
}
