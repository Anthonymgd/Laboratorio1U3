{
  "cells": [
    {
      "cell_type": "markdown",
      "metadata": {
        "id": "aWkdkxKF38l1"
      },
      "source": [
        "<center><h1>Inteligencia Artificial</header1></center>"
      ]
    },
    {
      "cell_type": "markdown",
      "metadata": {
        "id": "3jniPdgO4C1M"
      },
      "source": [
        "Presentado por: <br>\n",
        "- Anthony Mauricio Goyes Díaz  <br>\n",
        "\n",
        "Fecha: 08/08/2022"
      ]
    },
    {
      "cell_type": "markdown",
      "metadata": {
        "id": "zAATYNbD4HVl"
      },
      "source": [
        "# Importación de librerias necesarias"
      ]
    },
    {
      "cell_type": "code",
      "execution_count": 1,
      "metadata": {
        "id": "D4zmKtq7U0L3"
      },
      "outputs": [
        {
          "ename": "ModuleNotFoundError",
          "evalue": "No module named 'rembg'",
          "output_type": "error",
          "traceback": [
            "\u001b[1;31m---------------------------------------------------------------------------\u001b[0m",
            "\u001b[1;31mModuleNotFoundError\u001b[0m                       Traceback (most recent call last)",
            "\u001b[1;32mc:\\Users\\Personal\\IA\\Laboratorio1U3\\[NRC_6278]AnthonyGoyes_Taller2PrepoImag.ipynb Celda 4\u001b[0m in \u001b[0;36m<cell line: 34>\u001b[1;34m()\u001b[0m\n\u001b[0;32m     <a href='vscode-notebook-cell:/c%3A/Users/Personal/IA/Laboratorio1U3/%5BNRC_6278%5DAnthonyGoyes_Taller2PrepoImag.ipynb#W3sZmlsZQ%3D%3D?line=31'>32</a>\u001b[0m \u001b[39mimport\u001b[39;00m \u001b[39mpatoolib\u001b[39;00m\n\u001b[0;32m     <a href='vscode-notebook-cell:/c%3A/Users/Personal/IA/Laboratorio1U3/%5BNRC_6278%5DAnthonyGoyes_Taller2PrepoImag.ipynb#W3sZmlsZQ%3D%3D?line=32'>33</a>\u001b[0m \u001b[39m'''Se importa el módulo remove'''\u001b[39;00m\n\u001b[1;32m---> <a href='vscode-notebook-cell:/c%3A/Users/Personal/IA/Laboratorio1U3/%5BNRC_6278%5DAnthonyGoyes_Taller2PrepoImag.ipynb#W3sZmlsZQ%3D%3D?line=33'>34</a>\u001b[0m \u001b[39mfrom\u001b[39;00m \u001b[39mrembg\u001b[39;00m \u001b[39mimport\u001b[39;00m remove\n",
            "\u001b[1;31mModuleNotFoundError\u001b[0m: No module named 'rembg'"
          ]
        }
      ],
      "source": [
        "'''Se importa la libreria cv2'''\n",
        "import cv2\n",
        "'''Se importa la libreria numpy'''\n",
        "import numpy as np\n",
        "'''Se importa la libreria os'''\n",
        "import os\n",
        "'''Se establece el nivel de codificación'''\n",
        "os.environ['TF_CPP_MIN_LOG_LEVEL'] = '3' \n",
        "'''Se importa la libreria shutil'''\n",
        "import shutil\n",
        "'''Se importa la libreria glob'''\n",
        "import glob\n",
        "'''Se importa la libreria pandas'''\n",
        "import pandas as pd\n",
        "'''Se importa la libreria pyplot'''\n",
        "import matplotlib.pyplot as plt\n",
        "'''Se importa el módulo seaborn'''\n",
        "import seaborn as sn\n",
        "'''Se importan el módulo ImageDataGenerator'''\n",
        "from keras.preprocessing.image import ImageDataGenerator\n",
        "'''Se importan los módulos array_to_img, img_to_array, load_img'''\n",
        "from tensorflow.keras.utils import img_to_array, array_to_img, img_to_array, load_img\n",
        "'''Se importa el módulo Image'''\n",
        "from  PIL  import Image\n",
        "'''Se importa el módulo MinMaxScaler'''\n",
        "from sklearn.preprocessing import MinMaxScaler\n",
        "'''Se importa la libreria h5py'''\n",
        "import h5py\n",
        "'''Se importa el módulo sleep'''\n",
        "from time import sleep\n",
        "'''Se importa la librería patoolib'''\n",
        "import patoolib\n",
        "'''Se importa el módulo remove'''\n"
      ]
    },
    {
      "cell_type": "code",
      "execution_count": 102,
      "metadata": {
        "colab": {
          "base_uri": "https://localhost:8080/",
          "height": 105
        },
        "id": "3xTNl0zccNfO",
        "outputId": "df678cdd-f734-4e27-920d-8ee6400803dd"
      },
      "outputs": [
        {
          "name": "stdout",
          "output_type": "stream",
          "text": [
            "patool: Extracting Banana_Ripeness_Dataset_Augmented-main.rar ...\n",
            "patool: running /usr/bin/unrar x -- /content/Banana_Ripeness_Dataset_Augmented-main.rar\n",
            "patool:     with cwd='.'\n",
            "patool: ... Banana_Ripeness_Dataset_Augmented-main.rar extracted to `.'.\n"
          ]
        },
        {
          "data": {
            "application/vnd.google.colaboratory.intrinsic+json": {
              "type": "string"
            },
            "text/plain": [
              "'.'"
            ]
          },
          "execution_count": 102,
          "metadata": {},
          "output_type": "execute_result"
        }
      ],
      "source": [
        "'''Se extrae el archivo con extensión .rar en el directorio actual\n",
        "el cuál contiene todas las clases del dataset con sus respectiva cantidad de imágenes'''\n",
        "patoolib.extract_archive(\"Banana_Ripeness_Dataset_Augmented-main.rar\", outdir=\".\")"
      ]
    },
    {
      "cell_type": "code",
      "execution_count": 103,
      "metadata": {
        "colab": {
          "base_uri": "https://localhost:8080/"
        },
        "id": "jA5DB2XjU2Yr",
        "outputId": "c4644145-2861-401d-b32f-0525740583ac"
      },
      "outputs": [
        {
          "name": "stdout",
          "output_type": "stream",
          "text": [
            "['totally_green', 'yellow_with_brown_spots', 'yellow_with_green_tips']\n"
          ]
        }
      ],
      "source": [
        "'''Se establece la ruta de las imágenes'''\n",
        "ruta_imagenes = \"./Banana_Ripeness_Dataset_Augmented-main\"\n",
        "'''Se muestra los directorios (clases) del dataset'''\n",
        "nombre_clases = os.listdir(ruta_imagenes)\n",
        "'''Se ordenan en orden alfabético (AZ - az)'''\n",
        "nombre_clases.sort()\n",
        "'''Se muestran las clases del dataset'''\n",
        "print(nombre_clases)"
      ]
    },
    {
      "cell_type": "code",
      "execution_count": 104,
      "metadata": {
        "id": "cyox732FjWBP"
      },
      "outputs": [],
      "source": [
        "'''Pasos para almacenar los nuevos datos después de usar la técnica de\n",
        "data augmented'''\n",
        "'''Se establece el nombre y directorio de la carpeta que contendrá todo el dataset'''\n",
        "directorio = \"./Banana_Ripeness_Dataset_Augmented\"\n",
        "'''Se crea un nuevo directorio con la ruta anterior'''\n",
        "os.mkdir(directorio)\n",
        "'''Se establece el nombre y directorio de la carpeta que contendrá las imágenes\n",
        "de la clase \"totally_green\"'''\n",
        "subdirectorio_green = directorio+\"/\"+\"totally_green\"\n",
        "'''Se crea un nuevo directorio con la ruta anterior'''\n",
        "os.mkdir(subdirectorio_green)\n",
        "'''Se establece el nombre y directorio de la carpeta que contendrá las imágenes\n",
        "de la clase \"yellow_with_brown_spots\"'''\n",
        "subdirectorio_brown = directorio+\"/\"+\"yellow_with_brown_spots\"\n",
        "'''Se crea un nuevo directorio con la ruta anterior'''\n",
        "os.mkdir(subdirectorio_brown)\n",
        "'''Se establece el nombre y directorio de la carpeta que contendrá las imágenes\n",
        "de la clase \"yellow_with_green_tips\"'''\n",
        "subdirectorio_yellow = directorio+\"/\"+\"yellow_with_green_tips\"\n",
        "'''Se crea un nuevo directorio con la ruta anterior'''\n",
        "os.mkdir(subdirectorio_yellow)"
      ]
    },
    {
      "cell_type": "code",
      "execution_count": 105,
      "metadata": {
        "colab": {
          "base_uri": "https://localhost:8080/"
        },
        "id": "qM0XSJUTdT1t",
        "outputId": "5ec06f80-f452-4165-d94a-daa989f37cc2"
      },
      "outputs": [
        {
          "name": "stdout",
          "output_type": "stream",
          "text": [
            "Copiando imagen - 018_BAN_020_1.JPG en Banana_Ripeness_Dataset_Augmented/totally_green\n",
            "Copiando imagen - 019_BAN_021_1.JPG en Banana_Ripeness_Dataset_Augmented/totally_green\n",
            "Copiando imagen - 020_BAN_022_1.JPG en Banana_Ripeness_Dataset_Augmented/totally_green\n",
            "Copiando imagen - 017_BAN_019_1.JPG en Banana_Ripeness_Dataset_Augmented/totally_green\n",
            "Copiando imagen - 016_BAN_018_1.JPG en Banana_Ripeness_Dataset_Augmented/totally_green\n",
            "Copiando imagen - yellow_with_brown_spots_0_8724.jpg en Banana_Ripeness_Dataset_Augmented/yellow_with_brown_spots\n",
            "Copiando imagen - yellow_with_brown_spots_0_8838.jpg en Banana_Ripeness_Dataset_Augmented/yellow_with_brown_spots\n",
            "Copiando imagen - yellow_with_brown_spots_0_8690.jpg en Banana_Ripeness_Dataset_Augmented/yellow_with_brown_spots\n",
            "Copiando imagen - yellow_with_brown_spots_0_8840.jpg en Banana_Ripeness_Dataset_Augmented/yellow_with_brown_spots\n",
            "Copiando imagen - yellow_with_brown_spots_0_8758.jpg en Banana_Ripeness_Dataset_Augmented/yellow_with_brown_spots\n",
            "Copiando imagen - yellow_with_brown_spots_0_8574.jpg en Banana_Ripeness_Dataset_Augmented/yellow_with_brown_spots\n",
            "Copiando imagen - yellow_with_brown_spots_0_8683.jpg en Banana_Ripeness_Dataset_Augmented/yellow_with_brown_spots\n",
            "Copiando imagen - yellow_with_green_tips_0_7063.jpg en Banana_Ripeness_Dataset_Augmented/yellow_with_green_tips\n",
            "Copiando imagen - yellow_with_green_tips_0_6993.jpg en Banana_Ripeness_Dataset_Augmented/yellow_with_green_tips\n",
            "Copiando imagen - yellow_with_green_tips_0_7015.jpg en Banana_Ripeness_Dataset_Augmented/yellow_with_green_tips\n",
            "Copiando imagen - yellow_with_green_tips_0_6999.jpg en Banana_Ripeness_Dataset_Augmented/yellow_with_green_tips\n",
            "Copiando imagen - yellow_with_green_tips_0_7368.jpg en Banana_Ripeness_Dataset_Augmented/yellow_with_green_tips\n",
            "Copiando imagen - yellow_with_green_tips_0_7083.jpg en Banana_Ripeness_Dataset_Augmented/yellow_with_green_tips\n",
            "Copiando imagen - yellow_with_green_tips_0_7202.jpg en Banana_Ripeness_Dataset_Augmented/yellow_with_green_tips\n",
            "Copiando imagen - yellow_with_green_tips_0_7443.jpg en Banana_Ripeness_Dataset_Augmented/yellow_with_green_tips\n"
          ]
        }
      ],
      "source": [
        "'''Se genera un bucle para recorrer cada etiqueta de las clases'''\n",
        "for nombre_clase in nombre_clases:\n",
        "    '''Se almacena la ruta actual de cada clase por ciclo'''\n",
        "    ruta_actual = ruta_imagenes + \"/\" + nombre_clase\n",
        "    '''Se obtiene una lista de los elementos por clase'''\n",
        "    elementos = os.listdir(ruta_actual)\n",
        "    '''Se genera un nuevo ciclo que recorre cada elemento por clase'''\n",
        "    for elemento in elementos:\n",
        "        '''Se imprime un mensaje del proceso'''\n",
        "        print(\"Copiando imagen - {} en Banana_Ripeness_Dataset_Augmented/{}\".format(elemento, nombre_clase))\n",
        "        '''Se establece la ruta origen de ese elemento'''\n",
        "        ruta_origen = os.path.join(ruta_imagenes + \"/\" + nombre_clase, elemento) # origen\n",
        "        '''Se establece la ruta destino de ese elemento'''\n",
        "        ruta_destino = os.path.join(\"./Banana_Ripeness_Dataset_Augmented/\" + nombre_clase, elemento) \n",
        "        '''Se copia el elemento del origen al destino'''\n",
        "        shutil.copy(ruta_origen, ruta_destino)"
      ]
    },
    {
      "cell_type": "markdown",
      "metadata": {
        "id": "HA2p2zojj803"
      },
      "source": [
        "# Aumento de datos (Data augmentation)"
      ]
    },
    {
      "cell_type": "code",
      "execution_count": 106,
      "metadata": {
        "id": "ZU9QJtYHj7xY"
      },
      "outputs": [],
      "source": [
        "'''Se crea un elemento para generar imagenes según sus hiperparámetros'''\n",
        "generacionDatos = ImageDataGenerator(\n",
        "        rotation_range=40,\n",
        "        width_shift_range=0.2,\n",
        "        height_shift_range=0.2,\n",
        "        rescale=1./255,\n",
        "        shear_range=0.2,\n",
        "        zoom_range=0.4,\n",
        "        horizontal_flip=True,\n",
        "        fill_mode='nearest')"
      ]
    },
    {
      "cell_type": "markdown",
      "metadata": {
        "id": "YRLNILFOkX5X"
      },
      "source": [
        "## Clase de \"totalmente verde\" (totally green) "
      ]
    },
    {
      "cell_type": "code",
      "execution_count": 107,
      "metadata": {
        "id": "isD7TAOYkCnw"
      },
      "outputs": [],
      "source": [
        "'''Se redirecciona con una ruta dinámica para el sistema'''\n",
        "os.chdir(r\"/content/Banana_Ripeness_Dataset_Augmented/totally_green\")\n",
        "'''Se genera una ciclo que recorre cada elemento de la clase \"totally green\"'''\n",
        "for elemento in os.listdir():\n",
        "    '''Se almacena la imagen de la ruta'''\n",
        "    imagen = load_img(f\"{elemento}\")\n",
        "    '''Se almacena un array Numpy con forma (3, 150, 150)'''\n",
        "    x = img_to_array(imagen)    # this is a Numpy array with shape (3, 150, 150)\n",
        "    '''Se aumenta una dimensión por ciclo que hará referencia a cada elemento'''\n",
        "    x = x.reshape((1,) + x.shape)\n",
        "    '''Se inicializa un iterador'''\n",
        "    iterador = 0\n",
        "    '''Se genera un ciclo que corrererá cada lote de la transformación con sus\n",
        "    hiperparámetros'''\n",
        "    for lote in generacionDatos.flow(x, batch_size=1,\n",
        "            save_to_dir=\".\", \n",
        "            save_prefix= 'totally_green', \n",
        "            save_format='jpg'):\n",
        "        '''Se aumenta en una unidad en el iterador'''\n",
        "        iterador += 1\n",
        "        '''Se crea 5 imágenes de cada imagen'''\n",
        "        if iterador == 5: \n",
        "            break  "
      ]
    },
    {
      "cell_type": "markdown",
      "metadata": {
        "id": "QA9acn_gk4kC"
      },
      "source": [
        "## Clase de \"amarillo con puntas verdes\" (yellow with green tips) "
      ]
    },
    {
      "cell_type": "code",
      "execution_count": 108,
      "metadata": {
        "id": "3sFvVcpMlA7w"
      },
      "outputs": [],
      "source": [
        "'''Se redirecciona con una ruta dinámica para el sistema'''\n",
        "os.chdir(r\"/content/Banana_Ripeness_Dataset_Augmented/yellow_with_green_tips\")\n",
        "'''Se genera una ciclo que recorre cada elemento de la clase \"totally green\"'''\n",
        "for ruta in os.listdir():\n",
        "    '''Se almacena la imagen de la ruta'''\n",
        "    imagen = load_img(f\"{ruta}\")\n",
        "    '''Se almacena un array Numpy con forma (3, 150, 150)'''\n",
        "    x = img_to_array(imagen) \n",
        "    '''Se aumenta una dimensión por ciclo que hará referencia a cada elemento'''\n",
        "    x = x.reshape((1,) + x.shape)\n",
        "    '''Se inicializa un iterador'''\n",
        "    iterador = 0\n",
        "    '''Se genera un ciclo que corrererá cada lote de la transformación con sus\n",
        "    hiperparámetros'''\n",
        "    for batch in generacionDatos.flow(x, batch_size=1,\n",
        "            save_to_dir=\".\",  \n",
        "            save_prefix= 'yellow_with_green_tips', \n",
        "            save_format='jpg'):\n",
        "        '''Se aumenta en una unidad en el iterador'''\n",
        "        iterador += 1\n",
        "        '''Se crea 5 imágenes de cada imagen'''\n",
        "        if iterador == 5:\n",
        "            break  "
      ]
    },
    {
      "cell_type": "markdown",
      "metadata": {
        "id": "K8ElA1yBk42J"
      },
      "source": [
        "## Clase de \"amarillo con manchas marrones\" (yellow with brown spots)"
      ]
    },
    {
      "cell_type": "code",
      "execution_count": 109,
      "metadata": {
        "id": "bvz03BW3lLa4"
      },
      "outputs": [],
      "source": [
        "'''Se redirecciona con una ruta dinámica para el sistema'''\n",
        "os.chdir(r\"/content/Banana_Ripeness_Dataset_Augmented/yellow_with_brown_spots\")\n",
        "'''Se genera una ciclo que recorre cada elemento de la clase \"totally green\"'''\n",
        "for ruta in os.listdir():\n",
        "    '''Se almacena la imagen de la ruta'''\n",
        "    imagen = load_img(f\"{ruta}\")\n",
        "    '''Se almacena un array Numpy con forma (3, 150, 150)'''\n",
        "    x = img_to_array(imagen) \n",
        "    '''Se aumenta una dimensión por ciclo que hará referencia a cada elemento'''\n",
        "    x = x.reshape((1,) + x.shape)\n",
        "    '''Se inicializa un iterador'''\n",
        "    iterador = 0\n",
        "    '''Se genera un ciclo que corrererá cada lote de la transformación con sus\n",
        "    hiperparámetros'''\n",
        "    for batch in generacionDatos.flow(x, batch_size=1,\n",
        "            save_to_dir=\".\",   \n",
        "            save_prefix= 'yellow_with_brown_spots', \n",
        "            save_format='jpg'):\n",
        "        '''Se aumenta en una unidad en el iterador'''\n",
        "        iterador += 1\n",
        "        '''Se crea 5 imágenes de cada imagen'''\n",
        "        if iterador == 5:\n",
        "            break "
      ]
    },
    {
      "cell_type": "markdown",
      "metadata": {
        "id": "VKr9_MnqHzhJ"
      },
      "source": [
        "## Filtro NLM para la eliminación de ruido de las imágenes"
      ]
    },
    {
      "cell_type": "code",
      "execution_count": 110,
      "metadata": {
        "colab": {
          "base_uri": "https://localhost:8080/"
        },
        "id": "vDs2urFBlgaP",
        "outputId": "9670aa95-e815-40bf-fa51-667720191af2"
      },
      "outputs": [
        {
          "name": "stdout",
          "output_type": "stream",
          "text": [
            "['totally_green', 'yellow_with_brown_spots', 'yellow_with_green_tips']\n"
          ]
        }
      ],
      "source": [
        "'''Se redirecciona con una ruta dinámica al directorio general\n",
        "para el sistema'''\n",
        "os.chdir(r\"/content\")\n",
        "'''Se establece la ruta que contiene a las clases del dataset'''\n",
        "ruta_imagenes = \"./Banana_Ripeness_Dataset_Augmented\"\n",
        "'''Se almacena los directorios de cada clase'''\n",
        "nombre_clases = os.listdir(ruta_imagenes)\n",
        "'''Se ordena los elementos por orden alfabético'''\n",
        "nombre_clases.sort()\n",
        "'''Se imprimen las clases'''\n",
        "print(nombre_clases)"
      ]
    },
    {
      "cell_type": "code",
      "execution_count": 111,
      "metadata": {
        "id": "U6IukAQxbIQK"
      },
      "outputs": [],
      "source": [
        "'''Pasos para almacenar los nuevos datos después de usar el Filtro NLM para la\n",
        " eliminación de ruido de las imágenes'''\n",
        "'''Se establece el nombre y directorio de la carpeta que contendrá todo el dataset'''\n",
        "directorio = \"./Banana_Ripeness_Dataset_Denoised\"\n",
        "'''Se crea un nuevo directorio con la ruta anterior'''\n",
        "os.mkdir(directorio)\n",
        "'''Se establece el nombre y directorio de la carpeta que contendrá las imágenes\n",
        "de la clase \"totally_green\"'''\n",
        "subdirectorio_green = directorio+\"/\"+\"totally_green\"\n",
        "'''Se crea un nuevo directorio con la ruta anterior'''\n",
        "os.mkdir(subdirectorio_green)\n",
        "'''Se establece el nombre y directorio de la carpeta que contendrá las imágenes\n",
        "de la clase \"yellow_with_brown_spots\"'''\n",
        "subdirectorio_brown = directorio+\"/\"+\"yellow_with_brown_spots\"\n",
        "'''Se crea un nuevo directorio con la ruta anterior'''\n",
        "os.mkdir(subdirectorio_brown)\n",
        "'''Se establece el nombre y directorio de la carpeta que contendrá las imágenes\n",
        "de la clase \"yellow_with_green_tips\"'''\n",
        "subdirectorio_yellow = directorio+\"/\"+\"yellow_with_green_tips\"\n",
        "'''Se crea un nuevo directorio con la ruta anterior'''\n",
        "os.mkdir(subdirectorio_yellow)"
      ]
    },
    {
      "cell_type": "code",
      "execution_count": 112,
      "metadata": {
        "colab": {
          "base_uri": "https://localhost:8080/"
        },
        "id": "_IYyj5DWlnk3",
        "outputId": "2a7b9798-9919-4329-9590-3c0180453648"
      },
      "outputs": [
        {
          "name": "stdout",
          "output_type": "stream",
          "text": [
            "Procesando imagen - 5 en totally_green\n",
            "Procesando imagen - 5 en totally_green\n",
            "Procesando imagen - 5 en totally_green\n",
            "Procesando imagen - 5 en totally_green\n",
            "Procesando imagen - 5 en totally_green\n",
            "Procesando imagen - 5 en totally_green\n",
            "Procesando imagen - 5 en totally_green\n",
            "Procesando imagen - 5 en totally_green\n",
            "Procesando imagen - 5 en totally_green\n",
            "Procesando imagen - 5 en totally_green\n",
            "Procesando imagen - 5 en totally_green\n",
            "Procesando imagen - 5 en totally_green\n",
            "Procesando imagen - 5 en totally_green\n",
            "Procesando imagen - 5 en totally_green\n",
            "Procesando imagen - 5 en totally_green\n",
            "Procesando imagen - 5 en totally_green\n",
            "Procesando imagen - 5 en totally_green\n",
            "Procesando imagen - 5 en totally_green\n",
            "Procesando imagen - 5 en totally_green\n",
            "Procesando imagen - 5 en totally_green\n",
            "Procesando imagen - 5 en totally_green\n",
            "Procesando imagen - 5 en totally_green\n",
            "Procesando imagen - 5 en totally_green\n",
            "Procesando imagen - 5 en totally_green\n",
            "Procesando imagen - 5 en totally_green\n",
            "Procesando imagen - 5 en totally_green\n",
            "Procesando imagen - 5 en totally_green\n",
            "Procesando imagen - 5 en totally_green\n",
            "Procesando imagen - 5 en totally_green\n",
            "Procesando imagen - 5 en totally_green\n",
            "Procesando imagen - 5 en yellow_with_brown_spots\n",
            "Procesando imagen - 5 en yellow_with_brown_spots\n",
            "Procesando imagen - 5 en yellow_with_brown_spots\n",
            "Procesando imagen - 5 en yellow_with_brown_spots\n",
            "Procesando imagen - 5 en yellow_with_brown_spots\n",
            "Procesando imagen - 5 en yellow_with_brown_spots\n",
            "Procesando imagen - 5 en yellow_with_brown_spots\n",
            "Procesando imagen - 5 en yellow_with_brown_spots\n",
            "Procesando imagen - 5 en yellow_with_brown_spots\n",
            "Procesando imagen - 5 en yellow_with_brown_spots\n",
            "Procesando imagen - 5 en yellow_with_brown_spots\n",
            "Procesando imagen - 5 en yellow_with_brown_spots\n",
            "Procesando imagen - 5 en yellow_with_brown_spots\n",
            "Procesando imagen - 5 en yellow_with_brown_spots\n",
            "Procesando imagen - 5 en yellow_with_brown_spots\n",
            "Procesando imagen - 5 en yellow_with_brown_spots\n",
            "Procesando imagen - 5 en yellow_with_brown_spots\n",
            "Procesando imagen - 5 en yellow_with_brown_spots\n",
            "Procesando imagen - 5 en yellow_with_brown_spots\n",
            "Procesando imagen - 5 en yellow_with_brown_spots\n",
            "Procesando imagen - 5 en yellow_with_brown_spots\n",
            "Procesando imagen - 5 en yellow_with_brown_spots\n",
            "Procesando imagen - 5 en yellow_with_brown_spots\n",
            "Procesando imagen - 5 en yellow_with_brown_spots\n",
            "Procesando imagen - 5 en yellow_with_brown_spots\n",
            "Procesando imagen - 5 en yellow_with_brown_spots\n",
            "Procesando imagen - 5 en yellow_with_brown_spots\n",
            "Procesando imagen - 5 en yellow_with_brown_spots\n",
            "Procesando imagen - 5 en yellow_with_brown_spots\n",
            "Procesando imagen - 5 en yellow_with_brown_spots\n",
            "Procesando imagen - 5 en yellow_with_brown_spots\n",
            "Procesando imagen - 5 en yellow_with_brown_spots\n",
            "Procesando imagen - 5 en yellow_with_brown_spots\n",
            "Procesando imagen - 5 en yellow_with_brown_spots\n",
            "Procesando imagen - 5 en yellow_with_brown_spots\n",
            "Procesando imagen - 5 en yellow_with_brown_spots\n",
            "Procesando imagen - 5 en yellow_with_brown_spots\n",
            "Procesando imagen - 5 en yellow_with_brown_spots\n",
            "Procesando imagen - 5 en yellow_with_brown_spots\n",
            "Procesando imagen - 5 en yellow_with_brown_spots\n",
            "Procesando imagen - 5 en yellow_with_brown_spots\n",
            "Procesando imagen - 5 en yellow_with_brown_spots\n",
            "Procesando imagen - 5 en yellow_with_green_tips\n",
            "Procesando imagen - 5 en yellow_with_green_tips\n",
            "Procesando imagen - 5 en yellow_with_green_tips\n",
            "Procesando imagen - 5 en yellow_with_green_tips\n",
            "Procesando imagen - 5 en yellow_with_green_tips\n",
            "Procesando imagen - 5 en yellow_with_green_tips\n",
            "Procesando imagen - 5 en yellow_with_green_tips\n",
            "Procesando imagen - 5 en yellow_with_green_tips\n",
            "Procesando imagen - 5 en yellow_with_green_tips\n",
            "Procesando imagen - 5 en yellow_with_green_tips\n",
            "Procesando imagen - 5 en yellow_with_green_tips\n",
            "Procesando imagen - 5 en yellow_with_green_tips\n",
            "Procesando imagen - 5 en yellow_with_green_tips\n",
            "Procesando imagen - 5 en yellow_with_green_tips\n",
            "Procesando imagen - 5 en yellow_with_green_tips\n",
            "Procesando imagen - 5 en yellow_with_green_tips\n",
            "Procesando imagen - 5 en yellow_with_green_tips\n",
            "Procesando imagen - 5 en yellow_with_green_tips\n",
            "Procesando imagen - 5 en yellow_with_green_tips\n",
            "Procesando imagen - 5 en yellow_with_green_tips\n",
            "Procesando imagen - 5 en yellow_with_green_tips\n",
            "Procesando imagen - 5 en yellow_with_green_tips\n",
            "Procesando imagen - 5 en yellow_with_green_tips\n",
            "Procesando imagen - 5 en yellow_with_green_tips\n",
            "Procesando imagen - 5 en yellow_with_green_tips\n",
            "Procesando imagen - 5 en yellow_with_green_tips\n",
            "Procesando imagen - 5 en yellow_with_green_tips\n",
            "Procesando imagen - 5 en yellow_with_green_tips\n",
            "Procesando imagen - 5 en yellow_with_green_tips\n",
            "Procesando imagen - 5 en yellow_with_green_tips\n",
            "Procesando imagen - 5 en yellow_with_green_tips\n",
            "Procesando imagen - 5 en yellow_with_green_tips\n",
            "Procesando imagen - 5 en yellow_with_green_tips\n",
            "Procesando imagen - 5 en yellow_with_green_tips\n",
            "Procesando imagen - 5 en yellow_with_green_tips\n",
            "Procesando imagen - 5 en yellow_with_green_tips\n",
            "Procesando imagen - 5 en yellow_with_green_tips\n",
            "Procesando imagen - 5 en yellow_with_green_tips\n",
            "Procesando imagen - 5 en yellow_with_green_tips\n",
            "Procesando imagen - 5 en yellow_with_green_tips\n",
            "Procesando imagen - 5 en yellow_with_green_tips\n",
            "Procesando imagen - 5 en yellow_with_green_tips\n",
            "Procesando imagen - 5 en yellow_with_green_tips\n",
            "Procesando imagen - 5 en yellow_with_green_tips\n",
            "Procesando imagen - 5 en yellow_with_green_tips\n",
            "Procesando imagen - 5 en yellow_with_green_tips\n",
            "Procesando imagen - 5 en yellow_with_green_tips\n",
            "Procesando imagen - 5 en yellow_with_green_tips\n"
          ]
        }
      ],
      "source": [
        "'''Se genera un bucle para recorrer cada etiqueta de las clases'''\n",
        "for nombre_clase in nombre_clases:     \n",
        "    '''Se almacena la ruta actual de cada clase por ciclo'''\n",
        "    ruta_actual = ruta_imagenes + \"/\" + nombre_clase\n",
        "    '''Se almacenan las etiquetas de las clases'''\n",
        "    etiqueta_actual = nombre_clase\n",
        "    '''Se genera un iterador'''\n",
        "    iterador = 1\n",
        "    '''Se recorre cada imagen por clase sin importar su nombre o extensión'''\n",
        "    for file in glob.glob(ruta_actual + \"/*\"):\n",
        "        '''Se imprime el proceso'''\n",
        "        print(\"Procesando imagen - {} en {}\".format(i, etiqueta_actual))\n",
        "        '''Se leen las rutas de las imágenes'''\n",
        "        imagen = cv2.imread(file)\n",
        "        '''Se establece la denotación de imágenes'''\n",
        "        dst = cv2.fastNlMeansDenoisingColored(imagen,None,10,10,7,21)\n",
        "        '''Se divide por capa de color'''\n",
        "        b,g,r = cv2.split(dst)\n",
        "        '''Se unen las capas seperadas en orden (r,g,b)'''\n",
        "        rgb_dst = cv2.merge([r,g,b])\n",
        "        '''Se guardan las imagenes'''\n",
        "        ruta_guardado = './Banana_Ripeness_Dataset_Denoised/'+ etiqueta_actual\n",
        "        '''Se genera cada imagen según la ruta de guardado'''\n",
        "        cv2.imwrite(os.path.join(ruta_guardado , etiqueta_actual + '_' + str(iterador) + '.jpg'),\n",
        "                    cv2.cvtColor(rgb_dst,cv2.COLOR_RGB2BGR))\n",
        "        \n",
        "        '''Se muestra la actualización del bucle'''\n",
        "        iterador += 1"
      ]
    },
    {
      "cell_type": "markdown",
      "metadata": {
        "id": "ewYwU_AkE7ZK"
      },
      "source": [
        "## Eliminando el fondo"
      ]
    },
    {
      "cell_type": "code",
      "execution_count": 113,
      "metadata": {
        "colab": {
          "base_uri": "https://localhost:8080/"
        },
        "id": "YtB_jbi3FInH",
        "outputId": "2fdea005-0dfd-4fdf-e65d-66739b108070"
      },
      "outputs": [
        {
          "name": "stdout",
          "output_type": "stream",
          "text": [
            "['totally_green', 'yellow_with_brown_spots', 'yellow_with_green_tips']\n"
          ]
        }
      ],
      "source": [
        "ruta_imagenes = \"./Banana_Ripeness_Dataset_Denoised\"\n",
        "nombre_clases = os.listdir(ruta_imagenes)\n",
        "nombre_clases.sort()\n",
        "print(nombre_clases)"
      ]
    },
    {
      "cell_type": "code",
      "execution_count": 114,
      "metadata": {
        "id": "8juKn7xBcTPG"
      },
      "outputs": [],
      "source": [
        "'''Pasos para almacenar los nuevos datos después de eliminar el fondo'''\n",
        "'''Se establece el nombre y directorio de la carpeta que contendrá todo el dataset'''\n",
        "directorio = \"./Banana_Ripeness_Dataset_RemovedBG\"\n",
        "'''Se crea un nuevo directorio con la ruta anterior'''\n",
        "os.mkdir(directorio)\n",
        "'''Se establece el nombre y directorio de la carpeta que contendrá las imágenes\n",
        "de la clase \"totally_green\"'''\n",
        "subdirectorio_green = directorio+\"/\"+\"totally_green\"\n",
        "'''Se crea un nuevo directorio con la ruta anterior'''\n",
        "os.mkdir(subdirectorio_green)\n",
        "'''Se establece el nombre y directorio de la carpeta que contendrá las imágenes\n",
        "de la clase \"yellow_with_brown_spots\"'''\n",
        "subdirectorio_brown = directorio+\"/\"+\"yellow_with_brown_spots\"\n",
        "'''Se crea un nuevo directorio con la ruta anterior'''\n",
        "os.mkdir(subdirectorio_brown)\n",
        "'''Se establece el nombre y directorio de la carpeta que contendrá las imágenes\n",
        "de la clase \"yellow_with_green_tips\"'''\n",
        "subdirectorio_yellow = directorio+\"/\"+\"yellow_with_green_tips\"\n",
        "'''Se crea un nuevo directorio con la ruta anterior'''\n",
        "os.mkdir(subdirectorio_yellow)"
      ]
    },
    {
      "cell_type": "code",
      "execution_count": null,
      "metadata": {
        "id": "2NOS_IANGp_g"
      },
      "outputs": [],
      "source": [
        "'''Se genera un bucle para recorrer cada etiqueta de las clases'''\n",
        "for nombre_clase in nombre_clases:\n",
        "    '''Se almacena la ruta actual de cada clase por ciclo'''\n",
        "    ruta_actual = ruta_imagenes + \"/\" + nombre_clase\n",
        "    '''Se almacenan las etiquetas de las clases'''\n",
        "    etiqueta_actual = nombre_clase\n",
        "    '''Se genera un iterador'''\n",
        "    iterador = 1\n",
        "    '''Se recorre cada imagen por clase sin importar su nombre o extensión'''\n",
        "    for file in glob.glob(ruta_actual + \"/*\"):\n",
        "        '''Se imprime el proceso'''\n",
        "        print(\"Procesando imaegen - {} en {}\".format(i, etiqueta_actual))\n",
        "        '''Se leen las rutas de las imágenes'''\n",
        "        imagen = cv2.imread(file)\n",
        "        '''Se remueve el fondo'''\n",
        "        salida = remove(imagen)\n",
        "        '''Se guardan las imagenes'''\n",
        "        ruta_guardado = './Banana_Ripeness_Dataset_RemovedBG/'+ etiqueta_actual\n",
        "        '''Se genera cada imagen según la ruta de guardado'''\n",
        "        cv2.imwrite(os.path.join(ruta_guardado , etiqueta_actual + '_' + str(iterador) + '.png'), salida)\n",
        "        \n",
        "        '''Se aumenta el iterador'''\n",
        "        iterador += 1"
      ]
    }
  ],
  "metadata": {
    "colab": {
      "name": "[NRC_6278]AnthonyGoyes_Taller2PrepoImag.ipynb",
      "provenance": []
    },
    "kernelspec": {
      "display_name": "Python 3.9.12 ('base')",
      "language": "python",
      "name": "python3"
    },
    "language_info": {
      "codemirror_mode": {
        "name": "ipython",
        "version": 3
      },
      "file_extension": ".py",
      "mimetype": "text/x-python",
      "name": "python",
      "nbconvert_exporter": "python",
      "pygments_lexer": "ipython3",
      "version": "3.9.12"
    },
    "vscode": {
      "interpreter": {
        "hash": "de3a36d475e5f26841ec7388f3bf55db2f49f9bc2f20706f42a79b37e051f6ab"
      }
    }
  },
  "nbformat": 4,
  "nbformat_minor": 0
}
